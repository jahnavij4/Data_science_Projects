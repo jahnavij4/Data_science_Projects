{
  "nbformat": 4,
  "nbformat_minor": 0,
  "metadata": {
    "colab": {
      "provenance": []
    },
    "kernelspec": {
      "name": "python3",
      "display_name": "Python 3"
    },
    "language_info": {
      "name": "python"
    }
  },
  "cells": [
    {
      "cell_type": "markdown",
      "source": [
        "## Multiprocessing Methods"
      ],
      "metadata": {
        "id": "EbMX1o0KFJyA"
      }
    },
    {
      "cell_type": "code",
      "source": [
        "import multiprocessing as mp\n",
        "print(\"Number of processors: \", mp.cpu_count())"
      ],
      "metadata": {
        "colab": {
          "base_uri": "https://localhost:8080/"
        },
        "id": "B1N2N_mMFjsX",
        "outputId": "77689872-4cd7-47ca-b98e-63fda9610cba"
      },
      "execution_count": 1,
      "outputs": [
        {
          "output_type": "stream",
          "name": "stdout",
          "text": [
            "Number of processors:  2\n"
          ]
        }
      ]
    },
    {
      "cell_type": "markdown",
      "source": [
        "I. Pool Class\n",
        "\n",
        "1.   Synchronous execution\n",
        "\n",
        "      Pool.map() and Pool.starmap()\n",
        "      Pool.apply()\n",
        "2.   Asynchronous execution\n",
        "\n",
        "      Pool.map_async() and Pool.starmap_async()\n",
        "      Pool.apply_async()\n",
        "\n",
        "II. Process Class"
      ],
      "metadata": {
        "id": "c9E3z_s8GArz"
      }
    },
    {
      "cell_type": "code",
      "source": [
        "import numpy as np\n",
        "from time import time\n",
        "\n",
        "# Prepare data\n",
        "np.random.RandomState(100)\n",
        "arr = np.random.randint(0, 10, size=[200000, 5])\n",
        "data = arr.tolist()\n",
        "data[:5]"
      ],
      "metadata": {
        "colab": {
          "base_uri": "https://localhost:8080/"
        },
        "id": "915e56YoFcTc",
        "outputId": "cb5f47f6-1dde-441e-b03d-9982eba5ce36"
      },
      "execution_count": 2,
      "outputs": [
        {
          "output_type": "execute_result",
          "data": {
            "text/plain": [
              "[[4, 5, 9, 7, 2],\n",
              " [3, 8, 1, 7, 7],\n",
              " [1, 8, 6, 8, 0],\n",
              " [7, 7, 7, 2, 1],\n",
              " [6, 1, 3, 3, 1]]"
            ]
          },
          "metadata": {},
          "execution_count": 2
        }
      ]
    },
    {
      "cell_type": "code",
      "source": [
        "# Solution Without Paralleization\n",
        "\n",
        "def howmany_within_range(row, minimum, maximum):\n",
        "    \"\"\"Returns how many numbers lie within `maximum` and `minimum` in a given `row`\"\"\"\n",
        "    count = 0\n",
        "    for n in row:\n",
        "        if minimum <= n <= maximum:\n",
        "            count = count + 1\n",
        "    return count\n",
        "\n",
        "results = []\n",
        "for row in data:\n",
        "    results.append(howmany_within_range(row, minimum=4, maximum=8))\n",
        "\n",
        "print(results[:10])\n",
        "#> [3, 3, 3, 3, 1, 1, 2, 2, 2, 2]"
      ],
      "metadata": {
        "colab": {
          "base_uri": "https://localhost:8080/"
        },
        "id": "h-GyopB-FcJO",
        "outputId": "748fcd7c-9d84-4579-f4f0-433b4471b99d"
      },
      "execution_count": 3,
      "outputs": [
        {
          "output_type": "stream",
          "name": "stdout",
          "text": [
            "[3, 3, 3, 3, 1, 1, 2, 2, 2, 2]\n"
          ]
        }
      ]
    },
    {
      "cell_type": "markdown",
      "source": [
        "### Synchronous Method"
      ],
      "metadata": {
        "id": "7Rw6PaG-FPxD"
      }
    },
    {
      "cell_type": "markdown",
      "source": [
        "1. apply()"
      ],
      "metadata": {
        "id": "7PvCdr77FUv3"
      }
    },
    {
      "cell_type": "code",
      "source": [
        "# Parallelizing using Pool.apply()\n",
        "\n",
        "import multiprocessing as mp\n",
        "\n",
        "# Step 1: Init multiprocessing.Pool()\n",
        "pool = mp.Pool(mp.cpu_count())\n",
        "\n",
        "# Step 2: `pool.apply` the `howmany_within_range()`\n",
        "results = [pool.apply(howmany_within_range, args=(row, 4, 8)) for row in data]\n",
        "\n",
        "# Step 3: Don't forget to close\n",
        "pool.close()\n",
        "\n",
        "print(results[:10])\n",
        "#> [3, 3, 3, 3, 1, 1, 2, 2, 2, 2]"
      ],
      "metadata": {
        "colab": {
          "base_uri": "https://localhost:8080/"
        },
        "id": "s5u2q5E_K0Zx",
        "outputId": "9ccf74e4-83df-4204-841c-5ba27d87252e"
      },
      "execution_count": 4,
      "outputs": [
        {
          "output_type": "stream",
          "name": "stdout",
          "text": [
            "[3, 3, 3, 3, 1, 1, 2, 2, 2, 2]\n"
          ]
        }
      ]
    },
    {
      "cell_type": "markdown",
      "source": [
        "2. map()"
      ],
      "metadata": {
        "id": "lg8IsuiRFUpC"
      }
    },
    {
      "cell_type": "code",
      "execution_count": 5,
      "metadata": {
        "colab": {
          "base_uri": "https://localhost:8080/"
        },
        "id": "18n-Dk_VFBrR",
        "outputId": "e0947a9e-7845-4d2a-8eca-478127f3c94a"
      },
      "outputs": [
        {
          "output_type": "stream",
          "name": "stdout",
          "text": [
            "[3, 3, 3, 3, 1, 1, 2, 2, 2, 2]\n"
          ]
        }
      ],
      "source": [
        "# Parallelizing using Pool.map()\n",
        "import multiprocessing as mp\n",
        "\n",
        "# Redefine, with only 1 mandatory argument.\n",
        "def howmany_within_range_rowonly(row, minimum=4, maximum=8):\n",
        "    count = 0\n",
        "    for n in row:\n",
        "        if minimum <= n <= maximum:\n",
        "            count = count + 1\n",
        "    return count\n",
        "\n",
        "pool = mp.Pool(mp.cpu_count())\n",
        "\n",
        "results = pool.map(howmany_within_range_rowonly, [row for row in data])\n",
        "\n",
        "pool.close()\n",
        "\n",
        "print(results[:10])\n",
        "#> [3, 3, 3, 3, 1, 1, 2, 2, 2, 2]"
      ]
    },
    {
      "cell_type": "markdown",
      "source": [
        "3. startmap()"
      ],
      "metadata": {
        "id": "23ev6gWeLuBw"
      }
    },
    {
      "cell_type": "code",
      "source": [
        "# Parallelizing with Pool.starmap()\n",
        "import multiprocessing as mp\n",
        "\n",
        "pool = mp.Pool(mp.cpu_count())\n",
        "\n",
        "results = pool.starmap(howmany_within_range, [(row, 4, 8) for row in data])\n",
        "\n",
        "pool.close()\n",
        "\n",
        "print(results[:10])\n",
        "#> [3, 3, 3, 3, 1, 1, 2, 2, 2, 2]"
      ],
      "metadata": {
        "colab": {
          "base_uri": "https://localhost:8080/"
        },
        "id": "a_fCAVOaLdHv",
        "outputId": "57e2443b-465a-45fe-c8ac-2d6b65cd4fec"
      },
      "execution_count": 6,
      "outputs": [
        {
          "output_type": "stream",
          "name": "stdout",
          "text": [
            "[3, 3, 3, 3, 1, 1, 2, 2, 2, 2]\n"
          ]
        }
      ]
    },
    {
      "cell_type": "markdown",
      "source": [
        "### Asynchronous"
      ],
      "metadata": {
        "id": "3UJQBnyoL5wG"
      }
    },
    {
      "cell_type": "markdown",
      "source": [
        "1. apply_async()"
      ],
      "metadata": {
        "id": "lzcx_mnSMFMJ"
      }
    },
    {
      "cell_type": "code",
      "source": [
        "# Parallel processing with Pool.apply_async()\n",
        "\n",
        "import multiprocessing as mp\n",
        "pool = mp.Pool(mp.cpu_count())\n",
        "\n",
        "results = []\n",
        "\n",
        "# Step 1: Redefine, to accept `i`, the iteration number\n",
        "def howmany_within_range2(i, row, minimum, maximum):\n",
        "    \"\"\"Returns how many numbers lie within `maximum` and `minimum` in a given `row`\"\"\"\n",
        "    count = 0\n",
        "    for n in row:\n",
        "        if minimum <= n <= maximum:\n",
        "            count = count + 1\n",
        "    return (i, count)\n",
        "\n",
        "\n",
        "# Step 2: Define callback function to collect the output in `results`\n",
        "def collect_result(result):\n",
        "    global results\n",
        "    results.append(result)\n",
        "\n",
        "\n",
        "# Step 3: Use loop to parallelize\n",
        "for i, row in enumerate(data):\n",
        "    pool.apply_async(howmany_within_range2, args=(i, row, 4, 8), callback=collect_result)\n",
        "\n",
        "# Step 4: Close Pool and let all the processes complete\n",
        "pool.close()\n",
        "pool.join()  # postpones the execution of next line of code until all processes in the queue are done.\n",
        "\n",
        "# Step 5: Sort results [OPTIONAL]\n",
        "results.sort(key=lambda x: x[0])\n",
        "results_final = [r for i, r in results]\n",
        "\n",
        "print(results_final[:10])\n",
        "#> [3, 3, 3, 3, 1, 1, 2, 2, 2, 2]"
      ],
      "metadata": {
        "colab": {
          "base_uri": "https://localhost:8080/"
        },
        "id": "76NeL38cLzC-",
        "outputId": "32e7123e-2f9b-4aaa-eeca-1eeb6fdeb566"
      },
      "execution_count": 8,
      "outputs": [
        {
          "output_type": "stream",
          "name": "stdout",
          "text": [
            "[3, 3, 3, 3, 1, 1, 2, 2, 2, 2]\n"
          ]
        }
      ]
    },
    {
      "cell_type": "code",
      "source": [
        "# Parallel processing with Pool.apply_async() without callback function\n",
        "\n",
        "import multiprocessing as mp\n",
        "pool = mp.Pool(mp.cpu_count())\n",
        "\n",
        "results = []\n",
        "\n",
        "# call apply_async() without callback\n",
        "result_objects = [pool.apply_async(howmany_within_range2, args=(i, row, 4, 8)) for i, row in enumerate(data)]\n",
        "\n",
        "# result_objects is a list of pool.ApplyResult objects\n",
        "results = [r.get()[1] for r in result_objects]\n",
        "\n",
        "pool.close()\n",
        "pool.join()\n",
        "print(results[:10])\n",
        "#> [3, 3, 3, 3, 1, 1, 2, 2, 2, 2]"
      ],
      "metadata": {
        "colab": {
          "base_uri": "https://localhost:8080/"
        },
        "id": "wKi9nifTMGyr",
        "outputId": "5472973b-e5fa-4172-85da-b2e8f76f444c"
      },
      "execution_count": 9,
      "outputs": [
        {
          "output_type": "stream",
          "name": "stdout",
          "text": [
            "[3, 3, 3, 3, 1, 1, 2, 2, 2, 2]\n"
          ]
        }
      ]
    },
    {
      "cell_type": "markdown",
      "source": [
        "2. startmap_async()"
      ],
      "metadata": {
        "id": "MiqyV0tOOMbe"
      }
    },
    {
      "cell_type": "code",
      "source": [
        "# Parallelizing with Pool.starmap_async()\n",
        "\n",
        "import multiprocessing as mp\n",
        "pool = mp.Pool(mp.cpu_count())\n",
        "\n",
        "results = []\n",
        "\n",
        "results = pool.starmap_async(howmany_within_range2, [(i, row, 4, 8) for i, row in enumerate(data)]).get()\n",
        "\n",
        "pool.close()\n",
        "\n",
        "# result_objects is a list of pool.ApplyResult objects\n",
        "results = [r.get()[1] for r in result_objects]\n",
        "print(results[:10])\n",
        "\n",
        "#> [3, 3, 3, 3, 1, 1, 2, 2, 2, 2]"
      ],
      "metadata": {
        "colab": {
          "base_uri": "https://localhost:8080/"
        },
        "id": "XAFOj5wWN_Ex",
        "outputId": "87ecc44b-bf1b-4761-acfc-946d8ede9e00"
      },
      "execution_count": 12,
      "outputs": [
        {
          "output_type": "stream",
          "name": "stdout",
          "text": [
            "[3, 3, 3, 3, 1, 1, 2, 2, 2, 2]\n"
          ]
        }
      ]
    },
    {
      "cell_type": "code",
      "source": [
        "# Parallelizing with Pool.map_async()\n",
        "\n",
        "import multiprocessing as mp\n",
        "pool = mp.Pool(mp.cpu_count())\n",
        "\n",
        "results = []\n",
        "\n",
        "# With map, use `howmany_within_range_rowonly` instead\n",
        "results = pool.map_async(howmany_within_range_rowonly, [row for row in data]).get()\n",
        "\n",
        "pool.close()\n",
        "print(results[:10])\n",
        "#> [3, 3, 3, 3, 1, 1, 2, 2, 2, 2]"
      ],
      "metadata": {
        "colab": {
          "base_uri": "https://localhost:8080/"
        },
        "id": "X2bH4strOTRt",
        "outputId": "8c7650f2-4c9f-40ef-da27-e2c016c5f8f8"
      },
      "execution_count": 11,
      "outputs": [
        {
          "output_type": "stream",
          "name": "stdout",
          "text": [
            "[3, 3, 3, 3, 1, 1, 2, 2, 2, 2]\n"
          ]
        }
      ]
    },
    {
      "cell_type": "markdown",
      "source": [
        "## Applying multiprocessing on Pandas"
      ],
      "metadata": {
        "id": "pbp0osArPFOu"
      }
    },
    {
      "cell_type": "code",
      "source": [
        "import numpy as np\n",
        "import pandas as pd\n",
        "import multiprocessing as mp\n",
        "\n",
        "df = pd.DataFrame(np.random.randint(3, 10, size=[5, 2]))\n",
        "print(df.head())"
      ],
      "metadata": {
        "colab": {
          "base_uri": "https://localhost:8080/"
        },
        "id": "gtZLyLPSOnRk",
        "outputId": "f6e56435-f7c4-46ed-ed34-62e2b60559cf"
      },
      "execution_count": 13,
      "outputs": [
        {
          "output_type": "stream",
          "name": "stdout",
          "text": [
            "   0  1\n",
            "0  9  3\n",
            "1  3  3\n",
            "2  7  9\n",
            "3  6  9\n",
            "4  3  8\n"
          ]
        }
      ]
    },
    {
      "cell_type": "code",
      "source": [
        "num_processes = min(df.shape[1], mp.cpu_count())"
      ],
      "metadata": {
        "id": "Ld6ooenGJHl5"
      },
      "execution_count": 28,
      "outputs": []
    },
    {
      "cell_type": "code",
      "source": [
        "# Row wise Operation\n",
        "def hypotenuse(row):\n",
        "    return round(row[1]**2 + row[2]**2, 2)**0.5\n",
        "\n",
        "with mp.Pool(num_processes) as pool:\n",
        "    result = pool.imap(hypotenuse, df.itertuples(name=None),chunksize=10)\n",
        "    output = [round(x, 2) for x in result]\n",
        "\n",
        "print(output)\n",
        "#> [9.49, 4.24, 11.4, 10.82, 8.54]"
      ],
      "metadata": {
        "colab": {
          "base_uri": "https://localhost:8080/"
        },
        "id": "jio_q4T4PKH-",
        "outputId": "8f24c93f-b662-41ee-8553-69447773fceb"
      },
      "execution_count": 36,
      "outputs": [
        {
          "output_type": "stream",
          "name": "stdout",
          "text": [
            "[9.49, 4.24, 11.4, 10.82, 8.54]\n"
          ]
        }
      ]
    },
    {
      "cell_type": "code",
      "source": [
        "# Column wise Operation\n",
        "def sum_of_squares(column):\n",
        "    return sum([i**2 for i in column[1]])\n",
        "\n",
        "with mp.Pool(2) as pool:\n",
        "    result = pool.imap(sum_of_squares, df.iteritems(), chunksize=10)\n",
        "    output = [x for x in result]\n",
        "\n",
        "print(output)\n",
        "#> [184, 244]"
      ],
      "metadata": {
        "colab": {
          "base_uri": "https://localhost:8080/"
        },
        "id": "CADs0njyPdrk",
        "outputId": "6df9bebe-43d1-480e-a8f6-18ce4e986186"
      },
      "execution_count": 31,
      "outputs": [
        {
          "output_type": "stream",
          "name": "stdout",
          "text": [
            "[184, 244]\n"
          ]
        },
        {
          "output_type": "stream",
          "name": "stderr",
          "text": [
            "/usr/lib/python3.10/multiprocessing/pool.py:637: FutureWarning: iteritems is deprecated and will be removed in a future version. Use .items instead.\n",
            "  x = tuple(itertools.islice(it, size))\n"
          ]
        }
      ]
    },
    {
      "cell_type": "code",
      "source": [],
      "metadata": {
        "id": "xMteivWsKOcd"
      },
      "execution_count": null,
      "outputs": []
    }
  ]
}